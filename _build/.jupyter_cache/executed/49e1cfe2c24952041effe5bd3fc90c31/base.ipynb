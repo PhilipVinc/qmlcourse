{
 "cells": [
  {
   "cell_type": "code",
   "execution_count": 1,
   "id": "b078c2f3",
   "metadata": {},
   "outputs": [],
   "source": [
    "import numpy as np\n",
    "qubit = np.array([1 / np.sqrt(2) + 0j, 1 / np.sqrt(2) + 0j]).reshape((2, 1))"
   ]
  },
  {
   "cell_type": "code",
   "execution_count": 2,
   "id": "8416fc1a",
   "metadata": {},
   "outputs": [
    {
     "name": "stdout",
     "output_type": "stream",
     "text": [
      "(2, 1)\n"
     ]
    }
   ],
   "source": [
    "print(qubit.shape)"
   ]
  },
  {
   "cell_type": "code",
   "execution_count": 3,
   "id": "cf602a56",
   "metadata": {},
   "outputs": [
    {
     "name": "stdout",
     "output_type": "stream",
     "text": [
      "True\n"
     ]
    }
   ],
   "source": [
    "basis_0 = np.array([1 + 0j, 0 + 0j]).reshape((2, 1))\n",
    "basis_1 = np.array([0 + 0j, 1 + 0j]).reshape((2, 1))\n",
    "\n",
    "c0 = c1 = 1 / np.sqrt(2)\n",
    "\n",
    "print(np.allclose(qubit, c0 * basis_0 + c1 * basis_1))"
   ]
  },
  {
   "cell_type": "code",
   "execution_count": 4,
   "id": "af516bf1",
   "metadata": {},
   "outputs": [
    {
     "name": "stdout",
     "output_type": "stream",
     "text": [
      "True\n",
      "True\n"
     ]
    }
   ],
   "source": [
    "p0 = np.conj(c0) * c0\n",
    "p1 = np.conj(c1) * c1\n",
    "\n",
    "print(np.allclose(p0, p1))\n",
    "print(np.allclose(p0 + p1, 1.0))"
   ]
  },
  {
   "cell_type": "code",
   "execution_count": 5,
   "id": "c5404c4e",
   "metadata": {},
   "outputs": [
    {
     "name": "stdout",
     "output_type": "stream",
     "text": [
      "True\n"
     ]
    }
   ],
   "source": [
    "print(np.allclose(np.conj(qubit).T @ qubit, 1.0))"
   ]
  },
  {
   "cell_type": "code",
   "execution_count": 6,
   "id": "81f77ebc",
   "metadata": {},
   "outputs": [],
   "source": [
    "plus = (basis_0 + basis_1) / np.sqrt(2)\n",
    "minus = (basis_0 - basis_1) / np.sqrt(2)"
   ]
  },
  {
   "cell_type": "code",
   "execution_count": 7,
   "id": "cd8a0724",
   "metadata": {},
   "outputs": [],
   "source": [
    "R = (basis_0 + 1j * basis_1) / np.sqrt(2)\n",
    "L = (basis_0 - 1j * basis_1) / np.sqrt(2)"
   ]
  },
  {
   "cell_type": "code",
   "execution_count": 8,
   "id": "1c440524",
   "metadata": {},
   "outputs": [
    {
     "name": "stdout",
     "output_type": "stream",
     "text": [
      "True\n"
     ]
    }
   ],
   "source": [
    "print(np.allclose(np.conj(basis_0).T @ basis_1, 0))"
   ]
  },
  {
   "cell_type": "code",
   "execution_count": 9,
   "id": "f333ad7d",
   "metadata": {},
   "outputs": [
    {
     "name": "stdout",
     "output_type": "stream",
     "text": [
      "True\n"
     ]
    }
   ],
   "source": [
    "print(np.allclose(np.conj(plus).T @ minus, 0))"
   ]
  },
  {
   "cell_type": "code",
   "execution_count": 10,
   "id": "9ddbf549",
   "metadata": {},
   "outputs": [
    {
     "name": "stdout",
     "output_type": "stream",
     "text": [
      "True\n"
     ]
    }
   ],
   "source": [
    "print(np.allclose(np.conj(R).T @ L, 0))"
   ]
  },
  {
   "cell_type": "code",
   "execution_count": 11,
   "id": "046a9e7a",
   "metadata": {},
   "outputs": [],
   "source": [
    "h = 1 / np.sqrt(2) * np.array([\n",
    "    [1 + 0j, 1 + 0j],\n",
    "    [1 + 0j, 0j - 1]\n",
    "])"
   ]
  },
  {
   "cell_type": "code",
   "execution_count": 12,
   "id": "9593e954",
   "metadata": {},
   "outputs": [
    {
     "name": "stdout",
     "output_type": "stream",
     "text": [
      "True\n"
     ]
    }
   ],
   "source": [
    "print(np.allclose(np.conj(h).T @ h, np.eye(2)))"
   ]
  },
  {
   "cell_type": "code",
   "execution_count": 13,
   "id": "71dc8785",
   "metadata": {},
   "outputs": [
    {
     "name": "stdout",
     "output_type": "stream",
     "text": [
      "True\n"
     ]
    }
   ],
   "source": [
    "print(np.allclose(h @ basis_0, plus))"
   ]
  },
  {
   "cell_type": "code",
   "execution_count": 14,
   "id": "3f20531d",
   "metadata": {},
   "outputs": [],
   "source": [
    "pauli_x = np.array([[0 + 0j, 1 + 0j], [1 + 0j, 0 + 0j]])\n",
    "pauli_y = np.array([[0 + 0j, 0 - 1j], [0 + 1j, 0 + 0j]])\n",
    "pauli_z = np.array([[1 + 0j, 0 + 0j], [0 + 0j, 0j - 1]])"
   ]
  },
  {
   "cell_type": "code",
   "execution_count": 15,
   "id": "a5432141",
   "metadata": {},
   "outputs": [
    {
     "name": "stdout",
     "output_type": "stream",
     "text": [
      "(array([ 1.+0.j, -1.+0.j]), array([[1.+0.j, 0.+0.j],\n",
      "       [0.+0.j, 1.+0.j]]))\n"
     ]
    }
   ],
   "source": [
    "print(np.linalg.eig(pauli_z))"
   ]
  },
  {
   "cell_type": "code",
   "execution_count": 16,
   "id": "180d5349",
   "metadata": {},
   "outputs": [
    {
     "name": "stdout",
     "output_type": "stream",
     "text": [
      "(array([ 1.+0.j, -1.+0.j]), array([[ 0.70710678-0.j,  0.70710678+0.j],\n",
      "       [ 0.70710678+0.j, -0.70710678+0.j]]))\n",
      "(array([ 1.+0.j, -1.+0.j]), array([[-0.        -0.70710678j,  0.70710678+0.j        ],\n",
      "       [ 0.70710678+0.j        ,  0.        -0.70710678j]]))\n"
     ]
    }
   ],
   "source": [
    "print(np.linalg.eig(pauli_x))\n",
    "print(np.linalg.eig(pauli_y))"
   ]
  },
  {
   "cell_type": "code",
   "execution_count": 17,
   "id": "1f8b487b",
   "metadata": {},
   "outputs": [
    {
     "name": "stdout",
     "output_type": "stream",
     "text": [
      "[[0.+0.j]]\n"
     ]
    }
   ],
   "source": [
    "print(plus.conj().T @ pauli_z @ plus)"
   ]
  },
  {
   "cell_type": "code",
   "execution_count": 18,
   "id": "56b899f9",
   "metadata": {},
   "outputs": [
    {
     "name": "stdout",
     "output_type": "stream",
     "text": [
      "[[1.+0.j]]\n"
     ]
    }
   ],
   "source": [
    "print(plus.conj().T @ pauli_x @ plus)"
   ]
  },
  {
   "cell_type": "code",
   "execution_count": 19,
   "id": "f5e05cd1",
   "metadata": {},
   "outputs": [],
   "source": [
    "super_position = h @ basis_0\n",
    "eigenvectors = np.linalg.eig(pauli_z)[1]\n",
    "\n",
    "proj_0 = eigenvectors[0].reshape((-1, 1)) @ eigenvectors[0].reshape((1, -1))\n",
    "proj_1 = eigenvectors[1].reshape((-1, 1)) @ eigenvectors[1].reshape((1, -1))"
   ]
  },
  {
   "cell_type": "code",
   "execution_count": 20,
   "id": "89d40896",
   "metadata": {},
   "outputs": [
    {
     "name": "stdout",
     "output_type": "stream",
     "text": [
      "True\n",
      "True\n"
     ]
    }
   ],
   "source": [
    "p_0 = super_position.conj().T @ proj_0 @ super_position\n",
    "p_1 = super_position.conj().T @ proj_1 @ super_position\n",
    "\n",
    "print(np.allclose(p_0 + p_1, 1.0))\n",
    "print(np.allclose(p_0, 0.5))"
   ]
  }
 ],
 "metadata": {
  "jupytext": {
   "formats": "md:myst",
   "text_representation": {
    "extension": ".md",
    "format_name": "myst"
   }
  },
  "kernelspec": {
   "display_name": "Python 3",
   "language": "python",
   "name": "python3"
  },
  "language_info": {
   "codemirror_mode": {
    "name": "ipython",
    "version": 3
   },
   "file_extension": ".py",
   "mimetype": "text/x-python",
   "name": "python",
   "nbconvert_exporter": "python",
   "pygments_lexer": "ipython3",
   "version": "3.8.12"
  },
  "source_map": [
   11,
   89,
   92,
   103,
   105,
   132,
   139,
   164,
   170,
   174,
   176,
   210,
   213,
   219,
   222,
   226,
   228,
   241,
   243,
   257,
   259,
   344,
   349,
   353,
   355,
   375,
   377,
   429,
   433,
   449,
   451,
   471,
   474,
   498,
   500,
   519,
   521,
   558,
   565,
   577,
   583
  ]
 },
 "nbformat": 4,
 "nbformat_minor": 5
}